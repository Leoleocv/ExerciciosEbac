{
 "cells": [
  {
   "cell_type": "markdown",
   "metadata": {},
   "source": [
    "# 5 diferenças entre Adaboost e GBM\n",
    "\n",
    "- Função de perda: AdaBoost utiliza a função de perda exponencial, enquanto GBM é mais flexível e pode utilizar várias funções de perda.\n",
    "\n",
    "- Abordagem de otimização: AdaBoost ajusta os pesos das amostras após cada iteração, dando maior peso às amostras classificadas incorretamente. GBM, por outro lado, ajusta diretamente os resíduos (erros) do modelo.\n",
    "\n",
    "- Flexibilidade: GBM é mais flexível e pode ser aplicado tanto para problemas de classificação quanto de regressão, enquanto AdaBoost foi originalmente projetado para classificação (embora existam variantes para regressão).\n",
    " \n",
    "- Regularização: GBM geralmente oferece mais parâmetros de regularização, como shrinkage (taxa de aprendizado) e subamostragem, tornando-o mais resistente ao overfitting.\n",
    "\n",
    "- Modelos base: AdaBoost geralmente usa árvores de decisão simples (stumps - árvores com apenas um nível), enquanto GBM geralmente usa árvores mais profundas."
   ]
  },
  {
   "cell_type": "markdown",
   "metadata": {},
   "source": [
    "#### Exemplo classificação:"
   ]
  },
  {
   "cell_type": "code",
   "execution_count": 9,
   "metadata": {},
   "outputs": [
    {
     "name": "stdout",
     "output_type": "stream",
     "text": [
      "Acuracia: 0.9335\n"
     ]
    }
   ],
   "source": [
    "from sklearn.datasets import make_hastie_10_2\n",
    "from sklearn.ensemble import GradientBoostingClassifier\n",
    "from sklearn.model_selection import train_test_split\n",
    "from sklearn.metrics import accuracy_score\n",
    "\n",
    "X, y = make_hastie_10_2(n_samples=10000, random_state=42)\n",
    "X_train, X_test, y_train, y_test = train_test_split(X, y, test_size=0.2, random_state=42)\n",
    "\n",
    "gb_clf = GradientBoostingClassifier(n_estimators=150, learning_rate=0.1, max_depth=3, random_state=42)\n",
    "gb_clf.fit(X_train, y_train)\n",
    "\n",
    "y_pred = gb_clf.predict(X_test)\n",
    "print(f\"Acuracia: {accuracy_score(y_test, y_pred)}\")"
   ]
  },
  {
   "cell_type": "markdown",
   "metadata": {},
   "source": [
    "#### Exemplo regressão:"
   ]
  },
  {
   "cell_type": "code",
   "execution_count": 11,
   "metadata": {},
   "outputs": [
    {
     "name": "stdout",
     "output_type": "stream",
     "text": [
      "RMSE: 0.6355559660745642\n",
      "R²: 0.6026971572694859\n"
     ]
    }
   ],
   "source": [
    "from sklearn.ensemble import GradientBoostingRegressor\n",
    "from sklearn.metrics import root_mean_squared_error , r2_score\n",
    "\n",
    "y_reg = y.astype(float) + np.random.normal(0, 0.1, size=y.shape)\n",
    "\n",
    "X_train, X_test, y_train, y_test = train_test_split(X, y_reg, test_size=0.2, random_state=42)\n",
    "\n",
    "gb_reg = GradientBoostingRegressor(n_estimators=150, learning_rate=0.1, max_depth=3, random_state=42)\n",
    "gb_reg.fit(X_train, y_train)  # Agora usando y_train diretamente\n",
    "\n",
    "y_pred = gb_reg.predict(X_test)\n",
    "\n",
    "print(f\"RMSE: {root_mean_squared_error(y_test, y_pred)}\")\n",
    "\n",
    "r2 = r2_score(y_test, y_pred)\n",
    "\n",
    "print(f\"R²: {r2}\")"
   ]
  },
  {
   "cell_type": "markdown",
   "metadata": {},
   "source": [
    "### Diferenças entre o Gradient Boosting Machine (GBM) tradicional e o Stochastic Gradient Boosting Machine (SGBM) :\n",
    "\n",
    "Uma das maiores diferenças entre os dois algoritmos está no uso da subamostragem aleatória (subsample) durante o treinamento. No artigo de Jerome Friedman sobre o Stochastic GBM, ele introduz o conceito de treinar cada árvore usando apenas uma fração aleatória dos dados de treinamento. O GBM tradicional utiliza todos os dados disponíveis para treinar cada árvore, enquanto o Stochastic GBM seleciona aleatoriamente uma porcentagem dos dados (geralmente entre 50% e 80%) para treinar cada árvore. De modo a:\n",
    "- Adicionar aleatoriedade ao processo de aprendizado, reduzindo a variância\n",
    "- Ajudar a prevenir o overfitting\n",
    "- Aumentar a velocidade de computação, já que cada árvore é treinada com menos dados\n",
    "- Melhorar a capacidade de generalização do modelo\n",
    "\n",
    "O termo \"Stochastic\" no nome refere-se exatamente a esta introdução de aleatoriedade na seleção dos dados de treinamento para cada árvore, diferenciando-o do GBM tradicional que é determinístico em sua abordagem de uso dos dados."
   ]
  },
  {
   "cell_type": "markdown",
   "metadata": {},
   "source": []
  }
 ],
 "metadata": {
  "kernelspec": {
   "display_name": "base",
   "language": "python",
   "name": "python3"
  },
  "language_info": {
   "codemirror_mode": {
    "name": "ipython",
    "version": 3
   },
   "file_extension": ".py",
   "mimetype": "text/x-python",
   "name": "python",
   "nbconvert_exporter": "python",
   "pygments_lexer": "ipython3",
   "version": "3.12.3"
  }
 },
 "nbformat": 4,
 "nbformat_minor": 2
}
