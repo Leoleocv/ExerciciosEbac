{
 "cells": [
  {
   "cell_type": "markdown",
   "metadata": {},
   "source": [
    "Primeiro se define Parâmetros Iniciais:\n",
    "- número de árvores de decisão a serem criadas\n",
    "- profundidade máxima das árvores\n",
    "- número mínimo de amostras para dividir um nó\n",
    "- número de features a considerar em cada divisão\n",
    "\n",
    "Depois, se cria as Árvores\n",
    "Para cada árvore do ensemble:\n",
    "\n",
    "- É criado uma amostra bootstrap dos dados de treinamento (com reposição), e construida uma árvore de decisão usando esta amostra\n",
    "- Em cada nó, é selecionado aleatoriamente um subconjunto de features, assim se encontra a melhor divisão baseada nessas features\n",
    "- Se continua dividindo recursivamente até atingir os critérios de parada.\n",
    "\n",
    "Após isso é feito o treinamento do Modelo:\n",
    "\n",
    "- É treinado cada árvore independentemente usando sua amostra bootstrap\n",
    "- Não há poda (prunning) das árvores, possibilitando que elas crescam completamente\n",
    "\n",
    "Por ultimo temos a previsão, avaliação e ajuste:\n",
    "- Previsão para classificação:\n",
    "    - Cada árvore \"vota\" em uma classe\n",
    "    - A classe mais votada é a previsão final do modelo\n",
    "- Previsão para regressão:\n",
    "    - Cada árvore faz uma previsão numérica\n",
    "    - A média das previsões de todas as árvores é a previsão final\n",
    "\n",
    "- Avaliação do Modelo para classificação: acurácia, precisão, recall, F1-score, AUC-ROC\n",
    "- Avaliação do Modelo para regressão: MSE, RMSE, MAE, R²\n",
    "\n",
    "- Ajuste de Hiperparâmetros:\n",
    "    - Uso de validação cruzada para otimizar hiperparâmetros\n",
    "    - Ajuste de parâmetros como número de árvores, profundidade máxima, etc.\n"
   ]
  },
  {
   "cell_type": "markdown",
   "metadata": {},
   "source": [
    "Random Forest é um algoritmo de aprendizado de máquina usado para classificação e regressão. Ele funciona criando várias árvores de decisão e combinando seus resultados para melhorar a precisão e evitar overfitting, combinanddo essas arvoes de decisão/regressão."
   ]
  },
  {
   "cell_type": "code",
   "execution_count": 11,
   "metadata": {},
   "outputs": [
    {
     "name": "stdout",
     "output_type": "stream",
     "text": [
      "Acurácia do Random Forest: 0.9400\n"
     ]
    }
   ],
   "source": [
    "import numpy as np\n",
    "from sklearn.ensemble import RandomForestClassifier\n",
    "from sklearn.datasets import make_classification\n",
    "from sklearn.model_selection import train_test_split\n",
    "from sklearn.metrics import accuracy_score\n",
    "\n",
    "X, y = make_classification(\n",
    "    n_samples=1000, \n",
    "    n_features=10,\n",
    "    n_informative=5,\n",
    "    random_state=42\n",
    ")\n",
    "\n",
    "X_train, X_test, y_train, y_test = train_test_split(\n",
    "    X, y, test_size=0.3, random_state=42\n",
    ")\n",
    "\n",
    "rf_model = RandomForestClassifier(\n",
    "    n_estimators=100, \n",
    "    max_features='sqrt',\n",
    "    bootstrap=True,\n",
    "    max_depth=10, \n",
    "    random_state=42\n",
    ")\n",
    "\n",
    "rf_model.fit(X_train, y_train)\n",
    "\n",
    "y_pred = rf_model.predict(X_test)\n",
    "\n",
    "accuracy = accuracy_score(y_test, y_pred)\n",
    "print(f\"Acurácia do Random Forest: {accuracy:.4f}\")"
   ]
  }
 ],
 "metadata": {
  "kernelspec": {
   "display_name": "base",
   "language": "python",
   "name": "python3"
  },
  "language_info": {
   "codemirror_mode": {
    "name": "ipython",
    "version": 3
   },
   "file_extension": ".py",
   "mimetype": "text/x-python",
   "name": "python",
   "nbconvert_exporter": "python",
   "pygments_lexer": "ipython3",
   "version": "3.12.3"
  }
 },
 "nbformat": 4,
 "nbformat_minor": 2
}
