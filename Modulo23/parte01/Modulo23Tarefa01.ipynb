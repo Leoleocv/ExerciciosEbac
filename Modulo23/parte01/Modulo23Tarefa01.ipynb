{
 "cells": [
  {
   "cell_type": "markdown",
   "metadata": {},
   "source": [
    "# Passo a passo bagging "
   ]
  },
  {
   "cell_type": "markdown",
   "metadata": {},
   "source": [
    "#### 1 - Se cria várias amostras de treinamento a partir do conjunto de dados original.Cada amostra é obtida através de amostragem com reposição (algumas linhas podem aparecer várias vezes, outras podem não aparecer). Cada amostra bootstrap tem o mesmo tamanho do conjunto original."
   ]
  },
  {
   "cell_type": "markdown",
   "metadata": {},
   "source": [
    "#### 2 - É treinado um modelo independente para cada amostra bootstrap, cada modelo é da mesma classe (por exemplo, todos são árvores de decisão). Os modelos são treinados de forma independente, sem comunicação entre eles."
   ]
  },
  {
   "cell_type": "markdown",
   "metadata": {},
   "source": [
    "#### 3 - Após todos os modelos estiverem treinados se realiza uma agregação das previsoes, para problemas de classificação se é usado votação majoritária (a classe mais frequente entre as previsões) e para problemas de regressão é calculado a média das previsões de todos os modelos."
   ]
  },
  {
   "cell_type": "markdown",
   "metadata": {},
   "source": [
    "#### Por fim, bagging (bootstrap aggregating) é uma técnica de ensemble learning usada em aprendizado de máquina para melhorar a estabilidade e precisão de algoritmos, além de reduzir variância e ajudar a evitar overfitting. De grosso modo pode se explicar como um caso o qual ao inves de se perguntar para um unico especialista, se pergunta para 50, e toma a respota mais frequente ou a média das respostas como a resposta final para a pergunta."
   ]
  },
  {
   "cell_type": "markdown",
   "metadata": {},
   "source": [
    "##### Exemplo em codigo"
   ]
  },
  {
   "cell_type": "code",
   "execution_count": 1,
   "metadata": {},
   "outputs": [
    {
     "name": "stdout",
     "output_type": "stream",
     "text": [
      "Acurácia do modelo bagging: 0.8900\n"
     ]
    }
   ],
   "source": [
    "from sklearn.ensemble import BaggingClassifier\n",
    "from sklearn.tree import DecisionTreeClassifier\n",
    "from sklearn.datasets import make_classification\n",
    "from sklearn.model_selection import train_test_split\n",
    "\n",
    "X, y = make_classification(n_samples=1000, n_features=10, random_state=42)\n",
    "X_train, X_test, y_train, y_test = train_test_split(X, y, test_size=0.3, random_state=42)\n",
    "\n",
    "base_model = DecisionTreeClassifier(max_depth=None)\n",
    "\n",
    "bagging_model = BaggingClassifier(\n",
    "    estimator= base_model,\n",
    "    n_estimators= 100,\n",
    "    max_samples=1.0,\n",
    "    bootstrap=True,\n",
    "    random_state=42\n",
    ")\n",
    "\n",
    "bagging_model.fit(X_train, y_train)\n",
    "\n",
    "accuracy = bagging_model.score(X_test, y_test)\n",
    "print(f\"Acurácia do modelo bagging: {accuracy:.4f}\")"
   ]
  }
 ],
 "metadata": {
  "kernelspec": {
   "display_name": "base",
   "language": "python",
   "name": "python3"
  },
  "language_info": {
   "codemirror_mode": {
    "name": "ipython",
    "version": 3
   },
   "file_extension": ".py",
   "mimetype": "text/x-python",
   "name": "python",
   "nbconvert_exporter": "python",
   "pygments_lexer": "ipython3",
   "version": "3.12.3"
  }
 },
 "nbformat": 4,
 "nbformat_minor": 2
}
