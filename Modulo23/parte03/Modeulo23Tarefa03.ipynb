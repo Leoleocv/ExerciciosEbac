{
 "cells": [
  {
   "cell_type": "markdown",
   "metadata": {},
   "source": [
    "## Hiperparâmetros principais do Random Forest\n",
    "- Número de Árvores (n_estimators) \n",
    "    - O que faz: Define quantas árvores de decisão serão criadas na floresta.\n",
    "    - Mais árvores -> Melhor desempenho (até um certo ponto), mas maior tempo de treinamento.\n",
    "    - Valores típicos: 50 a 500.\n",
    "    - Valores muito altos podem levar a melhoria insignificante após um limite.\n",
    "\n",
    "- Número máximo de features por split (max_features)\n",
    "    - O que faz: Define quantas features são consideradas em cada divisão (split) de uma árvore.\n",
    "\n",
    "    - Valores comuns: \"auto\" ou \"sqrt\": usa a raiz quadrada do total de features (padrão), \"log2\": usa log2(n_features) e inteiro fixo (ex: 10).\n",
    "    - Valores baixos -> arvores mais diversas o que pode reduzir overfitting, mas pode resultar em perda de informações.\n",
    "    - Valores altos -> arvores mais parecidas, mas pode aumentar o risco de overfitting.\n",
    "\n",
    "- Profundidade máxima das arvores (max_depth)\n",
    "    - O que faz: Limita a profundidade máxima de cada árvore.\n",
    "    - Valores baixos -> arvores mais simple, menor risco de overfitting.\n",
    "    - None -> Cresce até todas as folhas serem puras, risco de acabar tendo overfitting.\n",
    "    - arvores muito profundas capturam ruídos; árvores rasas podem ser muito simples.\n",
    "\n",
    "- Número mínimo de amostras para dividir um nó (min_samples_split)\n",
    "    - O que faz: Define o mínimo de amostras necessárias para dividir um nó interno.\n",
    "    - min_samples_split=2 (padrão): Qualquer nó com 2+ amostras pode ser dividido.\n",
    "    - Valores maiores -> arvores mais robustas e menos sensiveis a outliers.\n",
    "\n",
    "- Bootstrap (bootstrap)\n",
    "    - O que faz: Ativa/desativa a amostragem com reposição.\n",
    "    - Padrão: True.\n",
    "    - False: Todas as arvores treinam no dataset original.\n",
    "\n",
    "- Critério de divisão (criterion)\n",
    "    - O que faz: Define a métrica para escolher a melhor divisão nos nós.\n",
    "    - \"gini\" (Índice de Gini) → Padrão para classificação.\n",
    "    - \"entropy\" (Ganho de Informação) → Pode ser mais lento.\n",
    "    - \"squared_error\" (para regressão).\n",
    "\n",
    "- class_weight\n",
    "    - Pesos associados às classes para lidar com dados desbalanceados.\n",
    "\n",
    "- n_jobs\n",
    "    - Número de processadores para usar no treinamento. -1 utiliza todos disponíveis.\n",
    "\n",
    "- max_samples \n",
    "    - Tamanho das amostras de bootstrap, em número absoluto ou fração do conjunto.\n",
    "\n",
    "- max_leaf_nodes\n",
    "    - Limita o número máximo de folhas por árvore.\n",
    "\n",
    "- min_impurity_decrease: \n",
    "    - Controla a divisão com base na redução de impureza."
   ]
  }
 ],
 "metadata": {
  "language_info": {
   "name": "python"
  }
 },
 "nbformat": 4,
 "nbformat_minor": 2
}
