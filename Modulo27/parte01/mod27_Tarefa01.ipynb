{
 "cells": [
  {
   "cell_type": "markdown",
   "metadata": {},
   "source": [
    "![Cabec%CC%A7alho_notebook.png](cabecalho_notebook.png)"
   ]
  },
  {
   "cell_type": "markdown",
   "metadata": {},
   "source": [
    "# PCA - Tarefa 01: *HAR* com PCA\n",
    "\n",
    "Vamos trabalhar com a base da demonstração feita em aula, mas vamos explorar um pouco melhor como é o desempenho da árvore variando o número de componentes principais."
   ]
  },
  {
   "cell_type": "code",
   "execution_count": 6,
   "metadata": {},
   "outputs": [],
   "source": [
    "import pandas as pd\n",
    "\n",
    "from sklearn.tree import DecisionTreeClassifier\n",
    "\n",
    "from sklearn.decomposition import PCA\n",
    "from sklearn.metrics import accuracy_score\n",
    "from sklearn.model_selection import cross_val_score\n",
    "from sklearn.model_selection import GridSearchCV\n",
    "\n",
    "filename_features = \"../Dados/UCI HAR Dataset/UCI HAR Dataset/features.txt\"\n",
    "filename_labels = \"../Dados/UCI HAR Dataset/UCI HAR Dataset/activity_labels.txt\"\n",
    "\n",
    "filename_subtrain = \"../Dados/UCI HAR Dataset/UCI HAR Dataset/train/subject_train.txt\"\n",
    "filename_xtrain = \"../Dados/UCI HAR Dataset/UCI HAR Dataset/train/X_train.txt\"\n",
    "filename_ytrain = \"../Dados/UCI HAR Dataset/UCI HAR Dataset/train/y_train.txt\"\n",
    "\n",
    "filename_subtest = \"../Dados/UCI HAR Dataset/UCI HAR Dataset/test/subject_test.txt\"\n",
    "ffilename_xtest = \"../Dados/UCI HAR Dataset/UCI HAR Dataset/test/X_test.txt\"\n",
    "filename_ytest = \"../Dados/UCI HAR Dataset/UCI HAR Dataset/test/y_test.txt\"\n",
    "\n",
    "features = pd.read_csv(filename_features, header=None, names=['nome_var'], sep=\"#\")\n",
    "labels = pd.read_csv(filename_labels, sep=r'\\s+', header=None, names=['cod_label', 'label'])\n",
    "\n",
    "subject_train = pd.read_csv(filename_subtrain, header=None, names=['subject_id'])\n",
    "X_train = pd.read_csv(filename_xtrain, sep=r'\\s+', header=None, names=features['nome_var'].tolist())\n",
    "y_train = pd.read_csv(filename_ytrain, header=None, names=['cod_label'])\n",
    "\n",
    "subject_test = pd.read_csv(filename_subtest, header=None, names=['subject_id'])\n",
    "X_test = pd.read_csv(ffilename_xtest, sep=r'\\s+', header=None, names=features['nome_var'].tolist())\n",
    "y_test = pd.read_csv(filename_ytest, header=None, names=['cod_label'])"
   ]
  },
  {
   "cell_type": "markdown",
   "metadata": {},
   "source": [
    "## Árvore de decisão\n",
    "\n",
    "Rode uma árvore de decisão com todas as variáveis, utilizando o ```ccp_alpha=0.001```. Avalie a acurácia nas bases de treinamento e teste. Avalie o tempo de processamento."
   ]
  },
  {
   "cell_type": "code",
   "execution_count": 8,
   "metadata": {},
   "outputs": [
    {
     "name": "stdout",
     "output_type": "stream",
     "text": [
      "Acurácia na base de treinamento: 0.9758\n",
      "Acurácia na base de teste: 0.8799\n",
      "CPU times: total: 6.03 s\n",
      "Wall time: 7.26 s\n"
     ]
    }
   ],
   "source": [
    "%%time\n",
    "\n",
    "dt = DecisionTreeClassifier(ccp_alpha=0.001, random_state=42)\n",
    "dt.fit(X_train, y_train['cod_label'])\n",
    "\n",
    "y_train_pred = dt.predict(X_train)\n",
    "train_accuracy = accuracy_score(y_train['cod_label'], y_train_pred)\n",
    "\n",
    "y_test_pred = dt.predict(X_test)\n",
    "test_accuracy = accuracy_score(y_test['cod_label'], y_test_pred)\n",
    "\n",
    "print(f\"Acurácia na base de treinamento: {train_accuracy:.4f}\")\n",
    "print(f\"Acurácia na base de teste: {test_accuracy:.4f}\")\n"
   ]
  },
  {
   "cell_type": "markdown",
   "metadata": {},
   "source": [
    "## Árvore com PCA\n",
    "\n",
    "Faça uma análise de componemtes principais das variáveis originais. Utilize apenas uma componente. Faça uma árvore de decisão com esta componente como variável explicativa.\n",
    "\n",
    "- Avalie a acurácia nas bases de treinamento e teste\n",
    "- Avalie o tempo de processamento"
   ]
  },
  {
   "cell_type": "code",
   "execution_count": 10,
   "metadata": {},
   "outputs": [
    {
     "name": "stdout",
     "output_type": "stream",
     "text": [
      "Acurácia na base de treinamento: 0.4997\n",
      "Acurácia na base de teste: 0.4571\n",
      "CPU times: total: 391 ms\n",
      "Wall time: 263 ms\n"
     ]
    }
   ],
   "source": [
    "%%time\n",
    "pca = PCA(n_components=1)\n",
    "X_train_pca = pca.fit_transform(X_train)\n",
    "X_test_pca = pca.transform(X_test)\n",
    "\n",
    "dt_pca = DecisionTreeClassifier(ccp_alpha=0.001, random_state=42)\n",
    "dt_pca.fit(X_train_pca, y_train['cod_label'])\n",
    "\n",
    "y_train_pred_pca = dt_pca.predict(X_train_pca)\n",
    "train_accuracy_pca = accuracy_score(y_train['cod_label'], y_train_pred_pca)\n",
    "\n",
    "y_test_pred_pca = dt_pca.predict(X_test_pca)\n",
    "test_accuracy_pca = accuracy_score(y_test['cod_label'], y_test_pred_pca)\n",
    "\n",
    "print(f\"Acurácia na base de treinamento: {train_accuracy_pca:.4f}\")\n",
    "print(f\"Acurácia na base de teste: {test_accuracy_pca:.4f}\")"
   ]
  },
  {
   "cell_type": "markdown",
   "metadata": {},
   "source": [
    "## Testando o número de componentes\n",
    "\n",
    "Com base no código acima, teste a árvore de classificação com pelo menos as seguintes possibilidades de quantidades de componentes: ```[1, 2, 5, 10, 50]```. Avalie para cada uma delas:\n",
    "\n",
    "- Acurácia nas bases de treino e teste\n",
    "- Tempo de processamento\n"
   ]
  },
  {
   "cell_type": "code",
   "execution_count": 13,
   "metadata": {},
   "outputs": [
    {
     "name": "stdout",
     "output_type": "stream",
     "text": [
      "\n",
      "Numero de componentes: 1\n",
      "Variância explicada acumulada: 0.6255 (62.55%)\n",
      "Acurácia no treino: 0.4997\n",
      "Acurácia no teste: 0.4571\n",
      "\n",
      "Numero de componentes: 2\n",
      "Variância explicada acumulada: 0.6255 (62.55%)\n",
      "Acurácia no treino: 0.6128\n",
      "Acurácia no teste: 0.5847\n",
      "\n",
      "Numero de componentes: 5\n",
      "Variância explicada acumulada: 0.6255 (62.55%)\n",
      "Acurácia no treino: 0.8460\n",
      "Acurácia no teste: 0.7886\n",
      "\n",
      "Numero de componentes: 10\n",
      "Variância explicada acumulada: 0.6255 (62.55%)\n",
      "Acurácia no treino: 0.8935\n",
      "Acurácia no teste: 0.8215\n",
      "\n",
      "Numero de componentes: 50\n",
      "Variância explicada acumulada: 0.6255 (62.55%)\n",
      "Acurácia no treino: 0.9162\n",
      "Acurácia no teste: 0.8249\n",
      "CPU times: total: 4.16 s\n",
      "Wall time: 1.99 s\n"
     ]
    }
   ],
   "source": [
    "%%time\n",
    "\n",
    "n = [1, 2, 5, 10, 50]\n",
    "train_accuracies = []\n",
    "test_accuracies = []\n",
    "\n",
    "for n_comp in n:\n",
    "\n",
    "    pca = PCA(n_components=n_comp)\n",
    "    X_train_pca = pca.fit_transform(X_train)\n",
    "    X_test_pca = pca.transform(X_test)\n",
    "    \n",
    "    dt_model = DecisionTreeClassifier(ccp_alpha=0.001, random_state=42)\n",
    "    dt_model.fit(X_train_pca, y_train['cod_label'])\n",
    "    \n",
    "    y_train_pred = dt_model.predict(X_train_pca)\n",
    "    train_acc = accuracy_score(y_train['cod_label'], y_train_pred)\n",
    "    train_accuracies.append(train_acc)\n",
    "    \n",
    "    # Avaliando na base de teste\n",
    "    y_test_pred = dt_model.predict(X_test_pca)\n",
    "    test_acc = accuracy_score(y_test['cod_label'], y_test_pred)\n",
    "    test_accuracies.append(test_acc)\n",
    "    \n",
    "    # Imprimindo resultados\n",
    "    print(f\"\\nNumero de componentes: {n_comp}\")\n",
    "    print(f\"Variância explicada acumulada: {var_exp:.4f} ({var_exp*100:.2f}%)\")\n",
    "    print(f\"Acurácia no treino: {train_acc:.4f}\")\n",
    "    print(f\"Acurácia no teste: {test_acc:.4f}\")"
   ]
  },
  {
   "cell_type": "markdown",
   "metadata": {},
   "source": [
    "## Conclua\n",
    "\n",
    "- O que aconteceu com a acurácia?\n",
    "- O que aconteceu com o tempo de processamento?"
   ]
  },
  {
   "cell_type": "markdown",
   "metadata": {},
   "source": [
    "- A acurácia aumentou consistentemente à medida que o número de componentes principais aumentou, tanto na base de treino quanto na de teste:\n",
    "\n",
    "    - Com 1 componente: 49.97% (treino) e 45.71% (teste)\n",
    "    - Com 50 componentes: 91.62% (treino) e 82.49% (teste)\n",
    "\n",
    "- Os maiores aumentos na acurácia ocorreram nas primeiras adições de componentes:\n",
    "\n",
    "    - De 1 para 2 componentes: aumento de ~11% no treino e ~13% no teste\n",
    "    - De 2 para 5 componentes: aumento de ~23% no treino e ~20% no teste\n",
    "    - De 5 para 10 componentes: aumento de ~4.8% no treino e ~3.3% no teste\n",
    "    - De 10 para 50 componentes: aumento de apenas ~2.3% no treino e ~0.3% no teste\n",
    "\n",
    "- O ganho em acurácia diminui significativamente à medida que mais componentes são adicionados, especialmente após 10 componentes. A diferença entre acurácia de treino e teste aumentou com mais componentes, indicando um possível início de sobreajuste à medida que o modelo se torna mais complexo.\n",
    "\n",
    "\n",
    "Olhando para o tempo de processamento, mesmo levando em conta que foi treinado varios modelos, ele aumentou significamente, de 300 ms para 4.16s. Enquanto que o tempo de processamento sem a utilização de pca foi de 6 segundos, mostrando uma redução mantendo a acuracia em valores satisfatórios."
   ]
  }
 ],
 "metadata": {
  "kernelspec": {
   "display_name": "base",
   "language": "python",
   "name": "python3"
  },
  "language_info": {
   "codemirror_mode": {
    "name": "ipython",
    "version": 3
   },
   "file_extension": ".py",
   "mimetype": "text/x-python",
   "name": "python",
   "nbconvert_exporter": "python",
   "pygments_lexer": "ipython3",
   "version": "3.12.3"
  },
  "toc": {
   "base_numbering": 1,
   "nav_menu": {},
   "number_sections": true,
   "sideBar": true,
   "skip_h1_title": true,
   "title_cell": "Índice",
   "title_sidebar": "Conteúdo",
   "toc_cell": false,
   "toc_position": {},
   "toc_section_display": true,
   "toc_window_display": false
  },
  "varInspector": {
   "cols": {
    "lenName": 16,
    "lenType": 16,
    "lenVar": 40
   },
   "kernels_config": {
    "python": {
     "delete_cmd_postfix": "",
     "delete_cmd_prefix": "del ",
     "library": "var_list.py",
     "varRefreshCmd": "print(var_dic_list())"
    },
    "r": {
     "delete_cmd_postfix": ") ",
     "delete_cmd_prefix": "rm(",
     "library": "var_list.r",
     "varRefreshCmd": "cat(var_dic_list()) "
    }
   },
   "types_to_exclude": [
    "module",
    "function",
    "builtin_function_or_method",
    "instance",
    "_Feature"
   ],
   "window_display": false
  }
 },
 "nbformat": 4,
 "nbformat_minor": 4
}
