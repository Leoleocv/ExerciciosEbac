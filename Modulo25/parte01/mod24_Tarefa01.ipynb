{
 "cells": [
  {
   "cell_type": "markdown",
   "metadata": {},
   "source": [
    "# Cálculo - Tarefa 01\n",
    "\n",
    "1. Marque quais desses métodos/algoritmos muito populares em ciência de dados são baseados no uso de derivada:\n",
    "\n",
    "    1. Método Mínimos Quadrados\n",
    "    2. Gradiente descendente\n",
    "    3. Newton Raphson\n",
    "    4. CART (Árvore de decisão)"
   ]
  },
  {
   "cell_type": "markdown",
   "metadata": {},
   "source": [
    "1. Método dos Mínimos Quadrados\n",
    "    - Usa derivada. É um método usado para ajustar modelos lineares minimizando o erro quadrático. A derivada é usada para encontrar o ponto mínimo da função de erro, ou seja, onde a inclinação (derivada) é zero.\n",
    "\n",
    "2. Gradiente Descendente\n",
    "    - Usa derivada. É um algoritmo de otimização que usa o gradiente (derivada) da função de custo para encontrar o mínimo. A cada passo, ele atualiza os parâmetros na direção oposta ao gradiente.\n",
    "\n",
    "3. Newton-Raphson\n",
    "    - Usa derivada. É um método numérico que usa derivadas de primeira e segunda ordem para encontrar raízes de funções. Muito usado para otimizar funções ou resolver equações não-lineares.\n",
    "\n",
    "4. CART (Árvore de Decisão)\n",
    "    - Não usa derivada. Árvores de decisão são baseadas em divisões recursivas dos dados, geralmente com base em métricas como entropia ou Gini. É um método não paramétrico e não usa cálculo diferencial.\n"
   ]
  },
  {
   "cell_type": "markdown",
   "metadata": {},
   "source": [
    "2. Dada uma base de dados com uma variável resposta $y$ e um conjunto de variáveis explicativas. Considere uma estrutura de um modelo de regressão. Explique com suas palavras por que não é possível obter parâmetros que forneçam um erro quadrático médio (EQM) menor que o obtido com estimadores de mínimos quadrados."
   ]
  },
  {
   "cell_type": "markdown",
   "metadata": {},
   "source": [
    "Quando utilizamos um modelo de regressão linear, o método mais comum para determinar os melhores parâmetros é o dos mínimos quadrados, que minimiza o erro quadrático médio (EQM). O EQM representa a média dos quadrados das diferenças entre os valores reais e previstos. Esse método resolve equações derivadas diretamente da função de erro quadrático, garantindo que os coeficientes escolhidos alcancem o menor EQM possível dentro da classe de modelos lineares. Em termos técnicos, os estimadores obtidos por mínimos quadrados apresentam a menor variância entre todos os estimadores lineares não viesados, conforme o Teorema de Gauss-Markov. Quando os dados atendem às premissas do modelo (ex.: erros com média zero e variância constante), os coeficientes estimados tornam-se a melhor escolha possível para minimizar o EQM.\n",
    "\n",
    "Os estimadores de mínimos quadrados ordinários (MQO ou OLS) são projetados matematicamente para minimizar o EQM. O EQM é definido como:\n",
    "\n",
    "\\begin{equation}\n",
    "EQM = \\frac{1}{n} \\sum_{i=1}^{n} \\left( y_i - \\hat{y}_i \\right)^2.\n",
    "\\end{equation}\n",
    "\n",
    "$$\n",
    "\\text{Onde } y_t \\text{ são os valores reais e } \\hat{y}_t \\text{ os valores previstos pelo modelo. A minimização do EQM ocorre ao ajustar os parâmetros } \\boldsymbol{\\beta} \\text{ de forma a reduzir a soma dos quadrados dos resíduos (RSS):}\n",
    "$$\n",
    "\n",
    "\\begin{equation}\n",
    "RSS = \\sum_{i=1}^{n} \\left( y_i - X_i \\boldsymbol{\\beta} \\right)^2\n",
    "\\end{equation}\n",
    "\n",
    "$$\n",
    "\\text{Como o EQM é proporcional ao RSS, minimizá-lo equivale a encontrar a solução ótima dos parâmetros } \\boldsymbol{\\beta}.\n",
    "$$\n",
    "\n",
    "Sob as premissas do modelo linear clássico, os estimadores de MQO são os melhores entre os lineares não viesados (BLUE - Best Linear Unbiased Estimator). Este método alcança a menor variância possível, garantindo o menor EQM. Portanto, qualquer tentativa de encontrar parâmetros que forneçam um EQM menor que o obtido pelo método dos mínimos quadrados está fadada ao fracasso, pois este método já encontra os parâmetros que minimizam especificamente essa métrica de erro."
   ]
  }
 ],
 "metadata": {
  "language_info": {
   "name": "python"
  }
 },
 "nbformat": 4,
 "nbformat_minor": 2
}
