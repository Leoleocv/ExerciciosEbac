{
 "cells": [
  {
   "cell_type": "markdown",
   "metadata": {},
   "source": [
    "# Cálculo - Tarefa 02\n",
    "\n",
    "1- Calcule de forma numérica a integral da função $x^3$ avaliada entre os pontos $1$ e $2$. Identifique o número de retângulos que você usou.  \n",
    "2- Calcule essa área de forma analítica."
   ]
  },
  {
   "cell_type": "markdown",
   "metadata": {},
   "source": [
    "## Integração da função \\( f(x) = x^3 \\) no intervalo \\([1, 2]\\)\n",
    "\n",
    "---\n",
    "\n",
    "### 1. Cálculo **numérico** usando a Regra do Ponto Médio\n",
    "\n",
    "Usando \\( n = 6 \\) retângulos:\n",
    "\n",
    "- Intervalo: \\( [1, 2] \\)\n",
    "\n",
    "- Largura de cada subintervalo:\n",
    "\n",
    "$$\n",
    "\\Delta x = \\frac{2 - 1}{6} = \\frac{1}{6} \\approx 0{,}1667\n",
    "$$\n",
    "\n",
    "- Pontos médios dos subintervalos:\n",
    "\n",
    "$$\n",
    "x_1^* = 1{,}0833 \\quad\n",
    "x_2^* = 1{,}25 \\quad\n",
    "x_3^* = 1{,}4167 \\quad\n",
    "x_4^* = 1{,}5833 \\quad\n",
    "x_5^* = 1{,}75 \\quad\n",
    "x_6^* = 1{,}9167\n",
    "$$\n",
    "\n",
    "- Avaliando a função \\( f(x) = x^3 \\) nos pontos médios:\n",
    "\n",
    "$$\n",
    "f(1{,}0833) \\approx 1{,}2728 \\quad\n",
    "f(1{,}25) = 1{,}9531 \\quad\n",
    "f(1{,}4167) \\approx 2{,}8431\n",
    "$$\n",
    "\n",
    "$$\n",
    "f(1{,}5833) \\approx 3{,}9631 \\quad\n",
    "f(1{,}75) = 5{,}3594 \\quad\n",
    "f(1{,}9167) \\approx 7{,}0632\n",
    "$$\n",
    "\n",
    "- Aproximação da integral:\n",
    "\n",
    "$$\n",
    "\\int_1^2 x^3 \\,dx \\approx \\Delta x \\cdot \\sum_{i=1}^{6} f(x_i^*)\n",
    "$$\n",
    "\n",
    "$$\n",
    "\\approx \\frac{1}{6} \\cdot (1{,}2728 + 1{,}9531 + 2{,}8431 + 3{,}9631 + 5{,}3594 + 7{,}0632)\n",
    "$$\n",
    "\n",
    "$$\n",
    "= \\frac{1}{6} \\cdot 22{,}4547 \\approx \\boxed{3{,}7425}\n",
    "$$\n",
    "\n",
    "---\n"
   ]
  },
  {
   "cell_type": "markdown",
   "metadata": {},
   "source": [
    "### 2. Cálculo **analítico** da integral definida\n",
    "\n",
    "Sabemos que:\n",
    "\n",
    "$$\n",
    "\\int x^3 \\,dx = \\frac{x^4}{4} + C\n",
    "$$\n",
    "\n",
    "Aplicando os limites de integração:\n",
    "\n",
    "$$\n",
    "\\int_1^2 x^3 \\,dx = \\left[ \\frac{x^4}{4} \\right]_1^2 = \\frac{2^4}{4} - \\frac{1^4}{4}\n",
    "= \\frac{16}{4} - \\frac{1}{4} = \\frac{15}{4} = \\boxed{3{,}75}\n",
    "$$\n",
    "\n",
    "---"
   ]
  }
 ],
 "metadata": {
  "language_info": {
   "name": "python"
  }
 },
 "nbformat": 4,
 "nbformat_minor": 2
}
